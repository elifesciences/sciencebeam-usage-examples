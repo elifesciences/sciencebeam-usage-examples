{
 "cells": [
  {
   "cell_type": "code",
   "execution_count": 1,
   "metadata": {},
   "outputs": [],
   "source": [
    "!pip install --quiet \\\n",
    "    \"sciencebeam-parser>=0.1.4\" \\\n",
    "    \"tensorflow<2.0.0\" \\\n",
    "    \"numpy<1.17.0\" \\\n",
    "    \"pandas<1.3.0\" \\\n",
    "    \"requests\" \\\n",
    "    \"typing_extensions\""
   ]
  },
  {
   "cell_type": "code",
   "execution_count": 2,
   "metadata": {},
   "outputs": [
    {
     "name": "stdout",
     "output_type": "stream",
     "text": [
      "Python 3.7.6\n"
     ]
    }
   ],
   "source": [
    "!python --version"
   ]
  },
  {
   "cell_type": "code",
   "execution_count": 3,
   "metadata": {},
   "outputs": [
    {
     "name": "stdout",
     "output_type": "stream",
     "text": [
      "delft==0.2.7\n",
      "Keras==2.2.4\n",
      "Keras-Applications==1.0.8\n",
      "keras-bert==0.84.0\n",
      "keras-embed-sim==0.9.0\n",
      "keras-layer-normalization==0.15.0\n",
      "keras-multi-head==0.28.0\n",
      "keras-pos-embd==0.12.0\n",
      "keras-position-wise-feed-forward==0.7.0\n",
      "Keras-Preprocessing==1.1.2\n",
      "keras-self-attention==0.50.0\n",
      "keras-transformer==0.39.0\n",
      "numpy==1.16.6\n",
      "pandas==1.2.5\n",
      "sciencebeam-parser==0.1.4\n",
      "sciencebeam-trainer-delft==0.0.31\n",
      "tensorflow==1.15.5\n",
      "tensorflow-estimator==1.15.1\n"
     ]
    }
   ],
   "source": [
    "!pip freeze | grep --ignore-case --extended-regexp \"tensorflow|keras|sciencebeam|numpy|pandas|delft\""
   ]
  },
  {
   "cell_type": "code",
   "execution_count": 4,
   "metadata": {},
   "outputs": [],
   "source": [
    "import logging\n",
    "import os\n",
    "from pathlib import Path\n",
    "\n",
    "import tensorflow as tf"
   ]
  },
  {
   "cell_type": "code",
   "execution_count": 5,
   "metadata": {},
   "outputs": [],
   "source": [
    "# configure logging so that we see ScienceBeam Parser's output\n",
    "logging.basicConfig(level='ERROR')\n",
    "\n",
    "# reduce tensorflow warnings\n",
    "tf.logging.set_verbosity(tf.logging.ERROR)"
   ]
  },
  {
   "cell_type": "code",
   "execution_count": 6,
   "metadata": {},
   "outputs": [],
   "source": [
    "# get a sample document\n",
    "sample_url = 'https://github.com/elifesciences/sciencebeam-parser/raw/develop/test-data/minimal-example.pdf'\n",
    "local_sample_file = tf.keras.utils.get_file(os.path.basename(sample_url), sample_url)"
   ]
  },
  {
   "cell_type": "code",
   "execution_count": 7,
   "metadata": {},
   "outputs": [],
   "source": [
    "# because we want to run other cells, we run the app in the background (not a common pattern otherwise)\n",
    "# https://stackoverflow.com/a/45017691/8676953\n",
    "\n",
    "import threading\n",
    "\n",
    "from werkzeug.serving import make_server\n",
    "\n",
    "\n",
    "class ServerThread(threading.Thread):\n",
    "    def __init__(self, app, **kwargs):\n",
    "        threading.Thread.__init__(self)\n",
    "        self.server = make_server(app=app, **kwargs)\n",
    "        self.ctx = app.app_context()\n",
    "        self.ctx.push()\n",
    "\n",
    "    def run(self):\n",
    "        self.server.serve_forever()\n",
    "\n",
    "    def shutdown(self):\n",
    "        self.server.shutdown()"
   ]
  },
  {
   "cell_type": "code",
   "execution_count": 8,
   "metadata": {},
   "outputs": [
    {
     "name": "stderr",
     "output_type": "stream",
     "text": [
      "Using TensorFlow backend.\n"
     ]
    }
   ],
   "source": [
    "from threading import Thread\n",
    "\n",
    "from sciencebeam_parser.config.config import AppConfig\n",
    "from sciencebeam_parser.resources.default_config import DEFAULT_CONFIG_FILE\n",
    "from sciencebeam_parser.service.server import create_app\n",
    "\n",
    "config = AppConfig.load_yaml(DEFAULT_CONFIG_FILE)\n",
    "app = create_app(config)\n",
    "server = ServerThread(app, port=8080, host='127.0.0.1', threaded=True)\n",
    "server.start()"
   ]
  },
  {
   "cell_type": "code",
   "execution_count": 9,
   "metadata": {},
   "outputs": [
    {
     "name": "stderr",
     "output_type": "stream",
     "text": [
      "\n",
      "\n",
      "INFO:werkzeug:127.0.0.1 - - [19/Nov/2021 21:38:46] \"POST /api/processHeaderDocument HTTP/1.1\" 200 -\n"
     ]
    },
    {
     "name": "stdout",
     "output_type": "stream",
     "text": [
      "<TEI xmlns=\"http://www.tei-c.org/ns/1.0\"><teiHeader><fileDesc><titleStmt><title level=\"a\" type=\"main\" coords=\"1,107.60,84.88,312.10,13.28\">This minimal example is used as a test document for automated tests</title></titleStmt></fileDesc><note type=\"O\" coords=\"1,56.80,57.28,117.06,40.88\"><hi rend=\"bold\">Title:</hi> Minimal Example <hi rend=\"bold\">Abstract:</hi></note><note type=\"O\" coords=\"1,435.89,84.88,4.05,13.28\">.</note></teiHeader></TEI>\n"
     ]
    }
   ],
   "source": [
    "# post a request to the service\n",
    "import requests\n",
    "\n",
    "with open(local_sample_file, 'rb') as fp:\n",
    "    response = requests.post('http://localhost:8080/api/processHeaderDocument', files={\n",
    "        'file': fp\n",
    "    })\n",
    "response.raise_for_status()\n",
    "print(response.text)"
   ]
  },
  {
   "cell_type": "code",
   "execution_count": 10,
   "metadata": {},
   "outputs": [],
   "source": [
    "# stop the service\n",
    "server.shutdown()"
   ]
  }
 ],
 "metadata": {
  "kernelspec": {
   "display_name": "Python 3",
   "language": "python",
   "name": "python3"
  },
  "language_info": {
   "codemirror_mode": {
    "name": "ipython",
    "version": 3
   },
   "file_extension": ".py",
   "mimetype": "text/x-python",
   "name": "python",
   "nbconvert_exporter": "python",
   "pygments_lexer": "ipython3",
   "version": "3.7.6"
  }
 },
 "nbformat": 4,
 "nbformat_minor": 5
}
