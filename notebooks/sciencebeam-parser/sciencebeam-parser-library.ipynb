{
 "cells": [
  {
   "cell_type": "code",
   "execution_count": 1,
   "metadata": {},
   "outputs": [],
   "source": [
    "!pip install --quiet \\\n",
    "    \"sciencebeam-parser>=0.1.4\" \\\n",
    "    \"tensorflow<2.0.0\" \\\n",
    "    \"numpy<1.17.0\" \\\n",
    "    \"pandas<1.3.0\" \\\n",
    "    \"typing_extensions\""
   ]
  },
  {
   "cell_type": "code",
   "execution_count": 2,
   "metadata": {},
   "outputs": [
    {
     "name": "stdout",
     "output_type": "stream",
     "text": [
      "Python 3.7.6\r\n"
     ]
    }
   ],
   "source": [
    "!python --version"
   ]
  },
  {
   "cell_type": "code",
   "execution_count": 3,
   "metadata": {},
   "outputs": [
    {
     "name": "stdout",
     "output_type": "stream",
     "text": [
      "delft==0.2.7\r\n",
      "Keras==2.2.4\r\n",
      "Keras-Applications==1.0.8\r\n",
      "keras-bert==0.84.0\r\n",
      "keras-embed-sim==0.9.0\r\n",
      "keras-layer-normalization==0.15.0\r\n",
      "keras-multi-head==0.28.0\r\n",
      "keras-pos-embd==0.12.0\r\n",
      "keras-position-wise-feed-forward==0.7.0\r\n",
      "Keras-Preprocessing==1.1.2\r\n",
      "keras-self-attention==0.50.0\r\n",
      "keras-transformer==0.39.0\r\n",
      "numpy==1.16.6\r\n",
      "pandas==1.2.5\r\n",
      "sciencebeam-parser==0.1.4\r\n",
      "sciencebeam-trainer-delft==0.0.31\r\n",
      "tensorflow==1.15.5\r\n",
      "tensorflow-estimator==1.15.1\r\n"
     ]
    }
   ],
   "source": [
    "!pip freeze | grep --ignore-case --extended-regexp \"tensorflow|keras|sciencebeam|numpy|pandas|delft\""
   ]
  },
  {
   "cell_type": "code",
   "execution_count": 4,
   "metadata": {},
   "outputs": [],
   "source": [
    "import logging\n",
    "import os\n",
    "from pathlib import Path\n",
    "\n",
    "import tensorflow as tf"
   ]
  },
  {
   "cell_type": "code",
   "execution_count": 5,
   "metadata": {},
   "outputs": [],
   "source": [
    "# configure logging so that we see ScienceBeam Parser's output\n",
    "logging.basicConfig(level='ERROR')\n",
    "\n",
    "# reduce tensorflow warnings\n",
    "tf.logging.set_verbosity(tf.logging.ERROR)"
   ]
  },
  {
   "cell_type": "code",
   "execution_count": 6,
   "metadata": {},
   "outputs": [],
   "source": [
    "# get a sample document\n",
    "sample_url = 'https://github.com/elifesciences/sciencebeam-parser/raw/develop/test-data/minimal-example.pdf'\n",
    "local_sample_file = tf.keras.utils.get_file(os.path.basename(sample_url), sample_url)"
   ]
  },
  {
   "cell_type": "code",
   "execution_count": 7,
   "metadata": {},
   "outputs": [
    {
     "name": "stderr",
     "output_type": "stream",
     "text": [
      "Using TensorFlow backend.\n"
     ]
    }
   ],
   "source": [
    "# create an instance of ScienceBeamParser\n",
    "from sciencebeam_parser.resources.default_config import DEFAULT_CONFIG_FILE\n",
    "from sciencebeam_parser.config.config import AppConfig\n",
    "from sciencebeam_parser.utils.media_types import MediaTypes\n",
    "from sciencebeam_parser.app.parser import ScienceBeamParser\n",
    "\n",
    "\n",
    "config = AppConfig.load_yaml(DEFAULT_CONFIG_FILE)\n",
    "\n",
    "# the parser contains all of the models\n",
    "sciencebeam_parser = ScienceBeamParser.from_config(config)"
   ]
  },
  {
   "cell_type": "code",
   "execution_count": 8,
   "metadata": {},
   "outputs": [
    {
     "name": "stderr",
     "output_type": "stream",
     "text": [
      "/opt/conda/lib/python3.7/site-packages/sklearn/base.py:315: UserWarning: Trying to unpickle estimator FunctionTransformer from version 0.20.4 when using version 0.24.2. This might lead to breaking code or invalid results. Use at your own risk.\n",
      "  UserWarning)\n",
      "/opt/conda/lib/python3.7/site-packages/sklearn/base.py:315: UserWarning: Trying to unpickle estimator DictVectorizer from version 0.20.4 when using version 0.24.2. This might lead to breaking code or invalid results. Use at your own risk.\n",
      "  UserWarning)\n",
      "/opt/conda/lib/python3.7/site-packages/sklearn/base.py:315: UserWarning: Trying to unpickle estimator Pipeline from version 0.20.4 when using version 0.24.2. This might lead to breaking code or invalid results. Use at your own risk.\n",
      "  UserWarning)\n"
     ]
    }
   ],
   "source": [
    "# preload models\n",
    "sciencebeam_parser.fulltext_models.preload()"
   ]
  },
  {
   "cell_type": "code",
   "execution_count": 9,
   "metadata": {},
   "outputs": [
    {
     "name": "stderr",
     "output_type": "stream",
     "text": [
      "\n"
     ]
    },
    {
     "name": "stdout",
     "output_type": "stream",
     "text": [
      "<TEI xmlns=\"http://www.tei-c.org/ns/1.0\"><teiHeader><fileDesc><titleStmt><title level=\"a\" type=\"main\" coords=\"1,107.60,84.88,312.10,13.28\">This minimal example is used as a test document for automated tests</title></titleStmt></fileDesc><note type=\"O\" coords=\"1,56.80,57.28,117.06,40.88\"><hi rend=\"bold\">Title:</hi> Minimal Example <hi rend=\"bold\">Abstract:</hi></note><note type=\"O\" coords=\"1,435.89,84.88,4.05,13.28\">.</note></teiHeader></TEI>\n"
     ]
    },
    {
     "name": "stderr",
     "output_type": "stream",
     "text": [
      "\n"
     ]
    }
   ],
   "source": [
    "# a session provides a scope and temporary directory for intermediate files\n",
    "# it is recommended to create a separate session for every document\n",
    "with sciencebeam_parser.get_new_session() as session:\n",
    "    session_source = session.get_source(\n",
    "        local_sample_file,\n",
    "        MediaTypes.PDF\n",
    "    )\n",
    "    converted_file = session_source.get_local_file_for_response_media_type(\n",
    "        MediaTypes.TEI_XML\n",
    "    )\n",
    "    # Note: the converted file will be in the temporary directory of the session\n",
    "    print(Path(converted_file).read_text(encoding='utf-8'))"
   ]
  }
 ],
 "metadata": {
  "kernelspec": {
   "display_name": "Python 3",
   "language": "python",
   "name": "python3"
  },
  "language_info": {
   "codemirror_mode": {
    "name": "ipython",
    "version": 3
   },
   "file_extension": ".py",
   "mimetype": "text/x-python",
   "name": "python",
   "nbconvert_exporter": "python",
   "pygments_lexer": "ipython3",
   "version": "3.7.6"
  }
 },
 "nbformat": 4,
 "nbformat_minor": 5
}
